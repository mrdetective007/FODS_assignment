{
 "cells": [
  {
   "cell_type": "code",
   "execution_count": 1,
   "id": "3238b704",
   "metadata": {},
   "outputs": [],
   "source": [
    "import numpy as np\n",
    "import pandas as pd\n",
    "from itertools import combinations_with_replacement\n",
    "import numpy as np\n",
    "import pandas as pd\n",
    "import matplotlib.pyplot as plt\n",
    "from sklearn.model_selection import train_test_split"
   ]
  },
  {
   "cell_type": "code",
   "execution_count": 2,
   "id": "4706b5ab",
   "metadata": {},
   "outputs": [
    {
     "data": {
      "text/html": [
       "<div>\n",
       "<style scoped>\n",
       "    .dataframe tbody tr th:only-of-type {\n",
       "        vertical-align: middle;\n",
       "    }\n",
       "\n",
       "    .dataframe tbody tr th {\n",
       "        vertical-align: top;\n",
       "    }\n",
       "\n",
       "    .dataframe thead th {\n",
       "        text-align: right;\n",
       "    }\n",
       "</style>\n",
       "<table border=\"1\" class=\"dataframe\">\n",
       "  <thead>\n",
       "    <tr style=\"text-align: right;\">\n",
       "      <th></th>\n",
       "      <th>MLOGP</th>\n",
       "      <th>RDCHI</th>\n",
       "      <th>quantitative response of LC50</th>\n",
       "    </tr>\n",
       "  </thead>\n",
       "  <tbody>\n",
       "    <tr>\n",
       "      <th>0</th>\n",
       "      <td>2.419</td>\n",
       "      <td>1.225</td>\n",
       "      <td>3.740</td>\n",
       "    </tr>\n",
       "    <tr>\n",
       "      <th>1</th>\n",
       "      <td>2.638</td>\n",
       "      <td>1.401</td>\n",
       "      <td>4.330</td>\n",
       "    </tr>\n",
       "    <tr>\n",
       "      <th>2</th>\n",
       "      <td>5.799</td>\n",
       "      <td>2.930</td>\n",
       "      <td>7.019</td>\n",
       "    </tr>\n",
       "    <tr>\n",
       "      <th>3</th>\n",
       "      <td>5.453</td>\n",
       "      <td>2.887</td>\n",
       "      <td>6.723</td>\n",
       "    </tr>\n",
       "    <tr>\n",
       "      <th>4</th>\n",
       "      <td>4.068</td>\n",
       "      <td>2.758</td>\n",
       "      <td>5.979</td>\n",
       "    </tr>\n",
       "  </tbody>\n",
       "</table>\n",
       "</div>"
      ],
      "text/plain": [
       "   MLOGP  RDCHI  quantitative response of LC50\n",
       "0  2.419  1.225                          3.740\n",
       "1  2.638  1.401                          4.330\n",
       "2  5.799  2.930                          7.019\n",
       "3  5.453  2.887                          6.723\n",
       "4  4.068  2.758                          5.979"
      ]
     },
     "execution_count": 2,
     "metadata": {},
     "output_type": "execute_result"
    }
   ],
   "source": [
    "data=pd.read_csv('C:\\\\Users\\\\hp\\\\Desktop\\\\A1_2020A&PS0155H_2020A7PS1700H_2020A7PS0189H\\\\fods_1.csv')\n",
    "data.head()"
   ]
  },
  {
   "cell_type": "code",
   "execution_count": 3,
   "id": "2bfdb1d8",
   "metadata": {},
   "outputs": [
    {
     "data": {
      "text/plain": [
       "2.638"
      ]
     },
     "execution_count": 3,
     "metadata": {},
     "output_type": "execute_result"
    }
   ],
   "source": [
    "X=data.iloc[:,0:2]\n",
    "X=X.values\n",
    "#X[0].max()\n",
    "X[1].max()"
   ]
  },
  {
   "cell_type": "code",
   "execution_count": 4,
   "id": "f8fe5b1d",
   "metadata": {},
   "outputs": [
    {
     "data": {
      "text/plain": [
       "10.047"
      ]
     },
     "execution_count": 4,
     "metadata": {},
     "output_type": "execute_result"
    }
   ],
   "source": [
    "y=data.iloc[:,2:3]\n",
    "y=y.values \n",
    "y.max()"
   ]
  },
  {
   "cell_type": "code",
   "execution_count": 5,
   "id": "7954f005",
   "metadata": {},
   "outputs": [],
   "source": [
    "def dw0(X,y,weight,lambda_,q):\n",
    "    n=X.shape[0]\n",
    "    dE=0.0\n",
    "    for i in range(n):\n",
    "        dE-=y[i]-(weight[1]*X[i][0]+weight[2]*X[i][1]+weight[0])\n",
    "    return dE\n",
    "\n",
    "def dw1(X,y,weight,lambda_,q):\n",
    "    n=X.shape[0]\n",
    "    dE=(lambda_/2)*q*pow(weight[1],q-1)*pow(-1,np.sign(weight[1]))\n",
    "    for i in range(n):\n",
    "        dE-=(y[i]-(weight[1]*X[i][0]+weight[2]*X[i][1]+weight[0]))*X[i][0]\n",
    "    return dE\n",
    "\n",
    "def dw2(X,y,weight,lambda_,q):\n",
    "    n=X.shape[0]\n",
    "    dE=(lambda_/2)*q*pow(weight[2],q-1)*pow(-1,np.sign(weight[2]))\n",
    "    for i in range(n):\n",
    "        dE-=(y[i]-(weight[1]*X[i][0]+weight[2]*X[i][1]+weight[0]))*X[i][1]\n",
    "    return dE"
   ]
  },
  {
   "cell_type": "code",
   "execution_count": 6,
   "id": "28c5cd21",
   "metadata": {},
   "outputs": [],
   "source": [
    "def make_model_regularized(X,y,q,learning_rate,lambda_,iterations):\n",
    "    weight=np.ones(3)\n",
    "    for i in range(iterations):\n",
    "        temp=weight\n",
    "        weight[0]=weight[0]-learning_rate*dw0(X,y,temp,lambda_,q)\n",
    "        weight[1]=weight[1]-learning_rate*dw1(X,y,temp,lambda_,q)\n",
    "        weight[2]=weight[2]-learning_rate*dw2(X,y,temp,lambda_,q)\n",
    "    return weight"
   ]
  },
  {
   "cell_type": "code",
   "execution_count": 7,
   "id": "0e5da031",
   "metadata": {},
   "outputs": [],
   "source": [
    "def regularized_error(X,y,weight,lambda_,q):\n",
    "    n=X.shape[0]\n",
    "    E=0.0\n",
    "    for i in range(n):\n",
    "        E+=(1/2)*((y[i]-(weight[1]*X[i][0]+weight[2]*X[i][1]+weight[0]))**2)+(lambda_/2)*((pow(abs(weight[1]),q))+pow(abs(weight[2]),q))\n",
    "    return E"
   ]
  },
  {
   "cell_type": "code",
   "execution_count": 8,
   "id": "b29262e3",
   "metadata": {},
   "outputs": [],
   "source": [
    "def total_error(X,y,weight):\n",
    "    n=X.shape[0]\n",
    "    E=0.0\n",
    "    for i in range(n):\n",
    "        E+=(1/2)*((y[i]-(weight[1]*X[i][0]+weight[2]*X[i][1]+weight[0]))**2)\n",
    "    return E"
   ]
  },
  {
   "cell_type": "code",
   "execution_count": 9,
   "id": "2aa3a324",
   "metadata": {},
   "outputs": [],
   "source": [
    "X_train,X_test,y_train,y_test=train_test_split(X,y,test_size=0.2,random_state=70,shuffle=True)"
   ]
  },
  {
   "cell_type": "code",
   "execution_count": 10,
   "id": "ee3c317a",
   "metadata": {},
   "outputs": [
    {
     "name": "stdout",
     "output_type": "stream",
     "text": [
      "The value of weights,regularized error and total error for lambda=0.1 and power=0.5 is as follows\n",
      "[2.28526104 0.42916985 0.54642812]\n",
      "[98.14041195]\n",
      "[90.47166117]\n",
      "The value of weights,regularized error and total error for lambda=0.1 and power=1.0 is as follows\n",
      "[2.28511156 0.42917164 0.54648635]\n",
      "[95.83853202]\n",
      "[90.47241308]\n",
      "The value of weights,regularized error and total error for lambda=0.1 and power=2.0 is as follows\n",
      "[2.28504887 0.4291635  0.54651794]\n",
      "[93.12861174]\n",
      "[90.47286431]\n",
      "The value of weights,regularized error and total error for lambda=0.1 and power=4.0 is as follows\n",
      "[2.28521135 0.42915231 0.54646142]\n",
      "[91.14920683]\n",
      "[90.47219439]\n"
     ]
    }
   ],
   "source": [
    "m=make_model_regularized(X_train,y_train,0.5,0.0001,0.1,1000)\n",
    "E1=regularized_error(X_test,y_test,m,0.1,0.5)\n",
    "E2=total_error(X_test,y_test,m)\n",
    "print(\"The value of weights,regularized error and total error for lambda=0.1 and power=0.5 is as follows\")\n",
    "print(m)\n",
    "print(E1)\n",
    "print(E2)\n",
    "m=make_model_regularized(X_train,y_train,1,0.0001,0.1,1000)\n",
    "E1=regularized_error(X_test,y_test,m,0.1,1)\n",
    "E2=total_error(X_test,y_test,m)\n",
    "print(\"The value of weights,regularized error and total error for lambda=0.1 and power=1.0 is as follows\")\n",
    "print(m)\n",
    "print(E1)\n",
    "print(E2)\n",
    "m=make_model_regularized(X_train,y_train,2,0.0001,0.1,1000)\n",
    "E1=regularized_error(X_test,y_test,m,0.1,2)\n",
    "E2=total_error(X_test,y_test,m)\n",
    "print(\"The value of weights,regularized error and total error for lambda=0.1 and power=2.0 is as follows\")\n",
    "print(m)\n",
    "print(E1)\n",
    "print(E2)\n",
    "m=make_model_regularized(X_train,y_train,4,0.0001,0.1,1000)\n",
    "E1=regularized_error(X_test,y_test,m,0.1,4)\n",
    "E2=total_error(X_test,y_test,m)\n",
    "print(\"The value of weights,regularized error and total error for lambda=0.1 and power=4.0 is as follows\")\n",
    "print(m)\n",
    "print(E1)\n",
    "print(E2)"
   ]
  },
  {
   "cell_type": "code",
   "execution_count": 11,
   "id": "cdd06788",
   "metadata": {},
   "outputs": [
    {
     "name": "stdout",
     "output_type": "stream",
     "text": [
      "The value of weights,regularized error and total error for lambda=0.15 and power=0.5 is as follows\n",
      "[2.2851123  0.42917733 0.5464813 ]\n",
      "[101.97579382]\n",
      "[90.47232378]\n",
      "The value of weights,regularized error and total error for lambda=0.15 and power=1.0 is as follows\n",
      "[2.28488806 0.42918001 0.54656866]\n",
      "[98.52337884]\n",
      "[90.4734523]\n",
      "The value of weights,regularized error and total error for lambda=0.15 and power=2.0 is as follows\n",
      "[2.2847939 0.4291678 0.5466161]\n",
      "[94.45866694]\n",
      "[90.47413014]\n",
      "The value of weights,regularized error and total error for lambda=0.15 and power=4.0 is as follows\n",
      "[2.28503752 0.42915101 0.54653136]\n",
      "[91.4890171]\n",
      "[90.47312514]\n"
     ]
    }
   ],
   "source": [
    "m=make_model_regularized(X_train,y_train,0.5,0.0001,0.15,1000)\n",
    "E1=regularized_error(X_test,y_test,m,0.15,0.5)\n",
    "E2=total_error(X_test,y_test,m)\n",
    "print(\"The value of weights,regularized error and total error for lambda=0.15 and power=0.5 is as follows\")\n",
    "print(m)\n",
    "print(E1)\n",
    "print(E2)\n",
    "m=make_model_regularized(X_train,y_train,1,0.0001,0.15,1000)\n",
    "E1=regularized_error(X_test,y_test,m,0.15,1)\n",
    "E2=total_error(X_test,y_test,m)\n",
    "print(\"The value of weights,regularized error and total error for lambda=0.15 and power=1.0 is as follows\")\n",
    "print(m)\n",
    "print(E1)\n",
    "print(E2)\n",
    "m=make_model_regularized(X_train,y_train,2,0.0001,0.15,1000)\n",
    "E1=regularized_error(X_test,y_test,m,0.15,2)\n",
    "E2=total_error(X_test,y_test,m)\n",
    "print(\"The value of weights,regularized error and total error for lambda=0.15 and power=2.0 is as follows\")\n",
    "print(m)\n",
    "print(E1)\n",
    "print(E2)\n",
    "m=make_model_regularized(X_train,y_train,4,0.0001,0.15,1000)\n",
    "E1=regularized_error(X_test,y_test,m,0.15,4)\n",
    "E2=total_error(X_test,y_test,m)\n",
    "print(\"The value of weights,regularized error and total error for lambda=0.15 and power=4.0 is as follows\")\n",
    "print(m)\n",
    "print(E1)\n",
    "print(E2)"
   ]
  },
  {
   "cell_type": "code",
   "execution_count": 12,
   "id": "2876b580",
   "metadata": {},
   "outputs": [
    {
     "name": "stdout",
     "output_type": "stream",
     "text": [
      "The value of weights,regularized error and total error for lambda=0.5 and power=0.5 is as follows\n",
      "[2.28407142 0.42922971 0.54685342]\n",
      "[128.82988867]\n",
      "[90.47696884]\n",
      "The value of weights,regularized error and total error for lambda=0.5 and power=1.0 is as follows\n",
      "[2.28332354 0.42923863 0.54714481]\n",
      "[117.33129038]\n",
      "[90.48074576]\n",
      "The value of weights,regularized error and total error for lambda=0.5 and power=2.0 is as follows\n",
      "[2.28300677 0.42919776 0.54730425]\n",
      "[103.78622665]\n",
      "[90.48302848]\n",
      "The value of weights,regularized error and total error for lambda=0.5 and power=4.0 is as follows\n",
      "[2.28381641 0.42914175 0.54702274]\n",
      "[93.87473776]\n",
      "[90.47967592]\n"
     ]
    }
   ],
   "source": [
    "m=make_model_regularized(X_train,y_train,0.5,0.0001,0.5,1000)\n",
    "E1=regularized_error(X_test,y_test,m,0.5,0.5)\n",
    "E2=total_error(X_test,y_test,m)\n",
    "print(\"The value of weights,regularized error and total error for lambda=0.5 and power=0.5 is as follows\")\n",
    "print(m)\n",
    "print(E1)\n",
    "print(E2)\n",
    "m=make_model_regularized(X_train,y_train,1,0.0001,0.5,1000)\n",
    "E1=regularized_error(X_test,y_test,m,0.5,1)\n",
    "E2=total_error(X_test,y_test,m)\n",
    "print(\"The value of weights,regularized error and total error for lambda=0.5 and power=1.0 is as follows\")\n",
    "print(m)\n",
    "print(E1)\n",
    "print(E2)\n",
    "m=make_model_regularized(X_train,y_train,2,0.0001,0.5,1000)\n",
    "E1=regularized_error(X_test,y_test,m,0.5,2)\n",
    "E2=total_error(X_test,y_test,m)\n",
    "print(\"The value of weights,regularized error and total error for lambda=0.5 and power=2.0 is as follows\")\n",
    "print(m)\n",
    "print(E1)\n",
    "print(E2)\n",
    "m=make_model_regularized(X_train,y_train,4,0.0001,0.5,1000)\n",
    "E1=regularized_error(X_test,y_test,m,0.5,4)\n",
    "E2=total_error(X_test,y_test,m)\n",
    "print(\"The value of weights,regularized error and total error for lambda=0.5 and power=4.0 is as follows\")\n",
    "print(m)\n",
    "print(E1)\n",
    "print(E2)"
   ]
  },
  {
   "cell_type": "code",
   "execution_count": 13,
   "id": "134e30d4",
   "metadata": {},
   "outputs": [
    {
     "name": "stdout",
     "output_type": "stream",
     "text": [
      "The value of weights,regularized error and total error for lambda=0.001 and power=0.5 is as follows\n",
      "[2.28555559 0.42915504 0.5463228 ]\n",
      "[90.54703288]\n",
      "[90.47034991]\n",
      "The value of weights,regularized error and total error for lambda=0.001 and power=1.0 is as follows\n",
      "[2.2855541  0.42915506 0.54632338]\n",
      "[90.52400873]\n",
      "[90.47035742]\n",
      "The value of weights,regularized error and total error for lambda=0.001 and power=2.0 is as follows\n",
      "[2.28555347 0.42915498 0.5463237 ]\n",
      "[90.49690731]\n",
      "[90.47036192]\n",
      "The value of weights,regularized error and total error for lambda=0.001 and power=4.0 is as follows\n",
      "[2.2855551  0.42915486 0.54632313]\n",
      "[90.47712043]\n",
      "[90.47035522]\n"
     ]
    }
   ],
   "source": [
    "m=make_model_regularized(X_train,y_train,0.5,0.0001,0.001,1000)\n",
    "E1=regularized_error(X_test,y_test,m,0.001,0.5)\n",
    "E2=total_error(X_test,y_test,m)\n",
    "print(\"The value of weights,regularized error and total error for lambda=0.001 and power=0.5 is as follows\")\n",
    "print(m)\n",
    "print(E1)\n",
    "print(E2)\n",
    "m=make_model_regularized(X_train,y_train,1,0.0001,0.001,1000)\n",
    "E1=regularized_error(X_test,y_test,m,0.001,1)\n",
    "E2=total_error(X_test,y_test,m)\n",
    "print(\"The value of weights,regularized error and total error for lambda=0.001 and power=1.0 is as follows\")\n",
    "print(m)\n",
    "print(E1)\n",
    "print(E2)\n",
    "m=make_model_regularized(X_train,y_train,2,0.0001,0.001,1000)\n",
    "E1=regularized_error(X_test,y_test,m,0.001,2)\n",
    "E2=total_error(X_test,y_test,m)\n",
    "print(\"The value of weights,regularized error and total error for lambda=0.001 and power=2.0 is as follows\")\n",
    "print(m)\n",
    "print(E1)\n",
    "print(E2)\n",
    "m=make_model_regularized(X_train,y_train,4,0.0001,0.001,1000)\n",
    "E1=regularized_error(X_test,y_test,m,0.001,4)\n",
    "E2=total_error(X_test,y_test,m)\n",
    "print(\"The value of weights,regularized error and total error for lambda=0.001 and power=4.0 is as follows\")\n",
    "print(m)\n",
    "print(E1)\n",
    "print(E2)"
   ]
  },
  {
   "cell_type": "code",
   "execution_count": null,
   "id": "2e6e8fce",
   "metadata": {},
   "outputs": [],
   "source": []
  }
 ],
 "metadata": {
  "kernelspec": {
   "display_name": "Python 3 (ipykernel)",
   "language": "python",
   "name": "python3"
  },
  "language_info": {
   "codemirror_mode": {
    "name": "ipython",
    "version": 3
   },
   "file_extension": ".py",
   "mimetype": "text/x-python",
   "name": "python",
   "nbconvert_exporter": "python",
   "pygments_lexer": "ipython3",
   "version": "3.9.7"
  }
 },
 "nbformat": 4,
 "nbformat_minor": 5
}
