{
 "cells": [
  {
   "cell_type": "code",
   "execution_count": 1,
   "id": "50eafdb8",
   "metadata": {},
   "outputs": [],
   "source": [
    "import numpy as np\n",
    "import pandas as pd\n",
    "from itertools import combinations_with_replacement\n",
    "import numpy as np\n",
    "import pandas as pd\n",
    "import matplotlib.pyplot as plt\n",
    "from sklearn.model_selection import train_test_split"
   ]
  },
  {
   "cell_type": "code",
   "execution_count": 2,
   "id": "23451a78",
   "metadata": {},
   "outputs": [
    {
     "data": {
      "text/html": [
       "<div>\n",
       "<style scoped>\n",
       "    .dataframe tbody tr th:only-of-type {\n",
       "        vertical-align: middle;\n",
       "    }\n",
       "\n",
       "    .dataframe tbody tr th {\n",
       "        vertical-align: top;\n",
       "    }\n",
       "\n",
       "    .dataframe thead th {\n",
       "        text-align: right;\n",
       "    }\n",
       "</style>\n",
       "<table border=\"1\" class=\"dataframe\">\n",
       "  <thead>\n",
       "    <tr style=\"text-align: right;\">\n",
       "      <th></th>\n",
       "      <th>MLOGP</th>\n",
       "      <th>RDCHI</th>\n",
       "      <th>quantitative response of LC50</th>\n",
       "    </tr>\n",
       "  </thead>\n",
       "  <tbody>\n",
       "    <tr>\n",
       "      <th>0</th>\n",
       "      <td>2.419</td>\n",
       "      <td>1.225</td>\n",
       "      <td>3.740</td>\n",
       "    </tr>\n",
       "    <tr>\n",
       "      <th>1</th>\n",
       "      <td>2.638</td>\n",
       "      <td>1.401</td>\n",
       "      <td>4.330</td>\n",
       "    </tr>\n",
       "    <tr>\n",
       "      <th>2</th>\n",
       "      <td>5.799</td>\n",
       "      <td>2.930</td>\n",
       "      <td>7.019</td>\n",
       "    </tr>\n",
       "    <tr>\n",
       "      <th>3</th>\n",
       "      <td>5.453</td>\n",
       "      <td>2.887</td>\n",
       "      <td>6.723</td>\n",
       "    </tr>\n",
       "    <tr>\n",
       "      <th>4</th>\n",
       "      <td>4.068</td>\n",
       "      <td>2.758</td>\n",
       "      <td>5.979</td>\n",
       "    </tr>\n",
       "  </tbody>\n",
       "</table>\n",
       "</div>"
      ],
      "text/plain": [
       "   MLOGP  RDCHI  quantitative response of LC50\n",
       "0  2.419  1.225                          3.740\n",
       "1  2.638  1.401                          4.330\n",
       "2  5.799  2.930                          7.019\n",
       "3  5.453  2.887                          6.723\n",
       "4  4.068  2.758                          5.979"
      ]
     },
     "execution_count": 2,
     "metadata": {},
     "output_type": "execute_result"
    }
   ],
   "source": [
    "data=pd.read_csv('C:\\\\Users\\\\hp\\\\Desktop\\\\A1_2020A&PS0155H_2020A7PS1700H_2020A7PS0189H\\\\fods_1.csv')\n",
    "data.head()"
   ]
  },
  {
   "cell_type": "code",
   "execution_count": 3,
   "id": "e0b5e940",
   "metadata": {},
   "outputs": [],
   "source": [
    "def get_powers(degree):\n",
    "    l=[0,1]\n",
    "    powers=[]\n",
    "    for i in range(1,degree+1):\n",
    "        powers.append([x for x in combinations_with_replacement(l,i)])\n",
    "    powers_flattened=[]\n",
    "    for sublist in powers:\n",
    "        for x in sublist:\n",
    "            powers_flattened.append(x)\n",
    "    return powers_flattened"
   ]
  },
  {
   "cell_type": "code",
   "execution_count": 4,
   "id": "05ff7461",
   "metadata": {},
   "outputs": [],
   "source": [
    "def transform_data(X,powers):\n",
    "    X_new=np.ones((X.shape[0],len(powers)))\n",
    "    for n in range(X.shape[0]):\n",
    "        for i in range(len(powers)):\n",
    "            for j in powers[i]:\n",
    "                X_new[n][i]=X_new[n][i]*X[n][j]\n",
    "    return X_new"
   ]
  },
  {
   "cell_type": "code",
   "execution_count": 5,
   "id": "ad1bbe60",
   "metadata": {},
   "outputs": [],
   "source": [
    "#data=(data-data.min())/(data.max()-data.min())\n",
    "data=(data-data.mean())/data.std()"
   ]
  },
  {
   "cell_type": "code",
   "execution_count": 6,
   "id": "07ca0900",
   "metadata": {},
   "outputs": [
    {
     "data": {
      "text/plain": [
       "0.18630602348391867"
      ]
     },
     "execution_count": 6,
     "metadata": {},
     "output_type": "execute_result"
    }
   ],
   "source": [
    "X=data.iloc[:,0:2]\n",
    "X=X.values\n",
    "#X[0].max()\n",
    "X[1].max()"
   ]
  },
  {
   "cell_type": "code",
   "execution_count": 7,
   "id": "13d4e4a6",
   "metadata": {},
   "outputs": [
    {
     "data": {
      "text/plain": [
       "3.235965658847879"
      ]
     },
     "execution_count": 7,
     "metadata": {},
     "output_type": "execute_result"
    }
   ],
   "source": [
    "y=data.iloc[:,2:3]\n",
    "y=y.values \n",
    "y.max()"
   ]
  },
  {
   "cell_type": "code",
   "execution_count": 8,
   "id": "9251da39",
   "metadata": {},
   "outputs": [],
   "source": [
    "powers_0=get_powers(0)\n",
    "powers_1=get_powers(1)\n",
    "powers_2=get_powers(2)\n",
    "powers_3=get_powers(3)\n",
    "powers_4=get_powers(4)\n",
    "powers_5=get_powers(5)\n",
    "powers_6=get_powers(6)\n",
    "powers_7=get_powers(7)\n",
    "powers_8=get_powers(8)\n",
    "powers_9=get_powers(9)"
   ]
  },
  {
   "cell_type": "code",
   "execution_count": 9,
   "id": "bb5ef057",
   "metadata": {},
   "outputs": [],
   "source": [
    "X_0=transform_data(X,powers_0)\n",
    "X_1=transform_data(X,powers_1)\n",
    "X_2=transform_data(X,powers_2)\n",
    "X_3=transform_data(X,powers_3)\n",
    "X_4=transform_data(X,powers_4)\n",
    "X_5=transform_data(X,powers_5)\n",
    "X_6=transform_data(X,powers_6)\n",
    "X_7=transform_data(X,powers_7)\n",
    "X_8=transform_data(X,powers_8)\n",
    "X_9=transform_data(X,powers_9)"
   ]
  },
  {
   "cell_type": "code",
   "execution_count": 10,
   "id": "80740ea3",
   "metadata": {},
   "outputs": [],
   "source": [
    "\n",
    "y=(y-y.mean())/y.std()\n",
    "X_1=(X_1-X_1.mean())/X_1.std()\n",
    "X_2=(X_2-X_2.mean())/X_2.std()\n",
    "X_3=(X_3-X_3.mean())/X_3.std()\n",
    "X_4=(X_4-X_4.mean())/X_4.std()\n",
    "X_5=(X_5-X_5.mean())/X_5.std()\n",
    "X_6=(X_6-X_6.mean())/X_6.std()\n",
    "X_7=(X_7-X_7.mean())/X_7.std()\n",
    "X_8=(X_8-X_8.mean())/X_8.std()\n",
    "X_9=(X_9-X_9.mean())/X_9.std()\n"
   ]
  },
  {
   "cell_type": "code",
   "execution_count": 11,
   "id": "ba3bae3f",
   "metadata": {},
   "outputs": [],
   "source": [
    "def concatenate_ones(X):\n",
    "    ones=np.ones((X.shape[0],1))\n",
    "    X=np.concatenate((ones,X),axis=1) \n",
    "    return X\n",
    "\n",
    "def predicted(X,theta):\n",
    "    return (X@(np.transpose(theta)))\n",
    "# @ symbol is used for matrix multiplication \n",
    "\n",
    "def cost(X,y,theta):\n",
    "     return ((1/2)*np.sum(np.square((predicted(X,theta))-y)))\n",
    "    \n",
    "def squared_error(X,y,final_weights):\n",
    "    return (1/(2*len(y)))*np.sum(np.square(predicted(X,final_weights)-y))"
   ]
  },
  {
   "cell_type": "code",
   "execution_count": 12,
   "id": "956d21c4",
   "metadata": {},
   "outputs": [],
   "source": [
    "def stochastic_gradient_descent(X,y,theta,learning_rate,iterations):\n",
    "    cost_history=np.zeros(iterations)\n",
    "    for i in range(iterations):\n",
    "        cost_=0.0\n",
    "        for j in range(len(y)):\n",
    "            random_index=np.random.randint(0,len(y))\n",
    "            X_rand=X[random_index,:].reshape(1,X.shape[1])\n",
    "            y_rand=y[random_index].reshape(1,1)\n",
    "            theta = theta - (learning_rate/len(X)) * np.sum(X_rand * ((predicted(X_rand,theta)) - y_rand), axis=0)\n",
    "            cost_=cost(X_rand, y_rand, theta)\n",
    "            cost_history[i] = cost_\n",
    "            \n",
    "    return theta,cost_history"
   ]
  },
  {
   "cell_type": "code",
   "execution_count": 13,
   "id": "e4186e7e",
   "metadata": {},
   "outputs": [],
   "source": [
    "def make_model_stochastic_gradient_descent(X,y,learning_rate,iterations,degree):\n",
    "    print(\"fitting polynomial of degree: \"+str(degree))   \n",
    "    X=concatenate_ones(X)\n",
    "    theta=np.ones((1,X.shape[1]))\n",
    "    X_train, X_test, y_train, y_test = train_test_split(X, y, test_size=0.2, random_state=70, shuffle=True)\n",
    "\n",
    "    final_weights,cost_history = stochastic_gradient_descent(X_train,y_train,theta,learning_rate,iterations)\n",
    "    squared_error_test=squared_error(X_test,y_test,final_weights)\n",
    "    squared_train_error=squared_error(X_train,y_train,final_weights)\n",
    "    print(\"Weights: \"+str(final_weights))\n",
    "    print(\"squared_error for training dataset: \"+str(squared_train_error))\n",
    "    print(\"squared_error for testing dataset: \"+str(squared_error_test))\n",
    "    \n",
    "    return squared_train_error,squared_error_test"
   ]
  },
  {
   "cell_type": "code",
   "execution_count": 14,
   "id": "94d5ef5e",
   "metadata": {},
   "outputs": [],
   "source": [
    "squared_error_list_1=[]\n",
    "squared_train_error_1=[]"
   ]
  },
  {
   "cell_type": "code",
   "execution_count": 15,
   "id": "c1ffd082",
   "metadata": {},
   "outputs": [
    {
     "name": "stdout",
     "output_type": "stream",
     "text": [
      "fitting polynomial of degree: 0\n",
      "Weights: [[0.90244441]]\n",
      "squared_error for training dataset: 0.9307937745358547\n",
      "squared_error for testing dataset: 0.8136975428202745\n"
     ]
    }
   ],
   "source": [
    "m=make_model_stochastic_gradient_descent(X_0,y,0.0001,1000,0)\n",
    "squared_train_error_1.append(m[0])\n",
    "squared_error_list_1.append(m[1])"
   ]
  },
  {
   "cell_type": "code",
   "execution_count": 16,
   "id": "15cb4af7",
   "metadata": {},
   "outputs": [
    {
     "name": "stdout",
     "output_type": "stream",
     "text": [
      "fitting polynomial of degree: 1\n",
      "Weights: [[0.90580581 0.93409424 0.91743381]]\n",
      "squared_error for training dataset: 1.154779688842148\n",
      "squared_error for testing dataset: 1.3246100602848287\n"
     ]
    }
   ],
   "source": [
    "m=make_model_stochastic_gradient_descent(X_1,y,0.0001,1000,1)\n",
    "squared_train_error_1.append(m[0])\n",
    "squared_error_list_1.append(m[1])"
   ]
  },
  {
   "cell_type": "code",
   "execution_count": 17,
   "id": "0ba1a227",
   "metadata": {},
   "outputs": [
    {
     "name": "stdout",
     "output_type": "stream",
     "text": [
      "fitting polynomial of degree: 2\n",
      "Weights: [[0.9170165  1.02474385 0.96359701 0.85621267 0.98869907 0.79271136]]\n",
      "squared_error for training dataset: 2.0155193378958893\n",
      "squared_error for testing dataset: 5.890615516048917\n"
     ]
    }
   ],
   "source": [
    "m=make_model_stochastic_gradient_descent(X_2,y,0.0001,1000,2)\n",
    "squared_train_error_1.append(m[0])\n",
    "squared_error_list_1.append(m[1])"
   ]
  },
  {
   "cell_type": "code",
   "execution_count": 18,
   "id": "43257369",
   "metadata": {},
   "outputs": [
    {
     "name": "stdout",
     "output_type": "stream",
     "text": [
      "fitting polynomial of degree: 3\n",
      "Weights: [[0.9202955  0.98777991 0.97588997 1.00024397 0.988857   0.91871715\n",
      "  0.85012725 0.99904267 0.99119284 0.69760272]]\n",
      "squared_error for training dataset: 2.489863467617086\n",
      "squared_error for testing dataset: 18.179479184285324\n"
     ]
    }
   ],
   "source": [
    "m=make_model_stochastic_gradient_descent(X_3,y,0.0001,1000,3)\n",
    "squared_train_error_1.append(m[0])\n",
    "squared_error_list_1.append(m[1])"
   ]
  },
  {
   "cell_type": "code",
   "execution_count": 19,
   "id": "afeb1583",
   "metadata": {},
   "outputs": [
    {
     "name": "stdout",
     "output_type": "stream",
     "text": [
      "fitting polynomial of degree: 4\n",
      "Weights: [[0.93030617 1.00854326 0.9989443  0.98666481 1.00769397 0.97479044\n",
      "  1.05062635 0.97197162 1.03199109 0.90723217 0.75468214 1.10640781\n",
      "  0.89684829 1.10005103 0.58768608]]\n",
      "squared_error for training dataset: 1.974766002238696\n",
      "squared_error for testing dataset: 33.01623044999966\n"
     ]
    }
   ],
   "source": [
    "m=make_model_stochastic_gradient_descent(X_4,y,0.0001,1000,4)\n",
    "squared_train_error_1.append(m[0])\n",
    "squared_error_list_1.append(m[1])"
   ]
  },
  {
   "cell_type": "code",
   "execution_count": 20,
   "id": "cf00e276",
   "metadata": {},
   "outputs": [
    {
     "name": "stdout",
     "output_type": "stream",
     "text": [
      "fitting polynomial of degree: 5\n",
      "Weights: [[0.92799961 1.00196037 1.00098302 1.00248853 1.00100022 0.99537378\n",
      "  0.99101497 1.00504218 1.00380227 0.97774976 1.05033683 0.97299359\n",
      "  1.00452649 1.01681608 0.89089697 0.73549066 1.12937397 0.9366131\n",
      "  0.99486081 1.1005063  0.50605606]]\n",
      "squared_error for training dataset: 1.7574770169565919\n",
      "squared_error for testing dataset: 48.09221205429552\n"
     ]
    }
   ],
   "source": [
    "m=make_model_stochastic_gradient_descent(X_5,y,0.0001,1000,5)\n",
    "squared_train_error_1.append(m[0])\n",
    "squared_error_list_1.append(m[1])"
   ]
  },
  {
   "cell_type": "code",
   "execution_count": 21,
   "id": "4e4c3aae",
   "metadata": {},
   "outputs": [
    {
     "name": "stdout",
     "output_type": "stream",
     "text": [
      "fitting polynomial of degree: 6\n",
      "Weights: [[0.93830574 1.0019831  1.0013952  1.00072608 1.00205086 0.99989394\n",
      "  1.00480995 0.99979977 1.00386022 0.99538    0.9869456  1.00872526\n",
      "  0.99520277 1.00958269 0.97308725 1.06913276 0.96539053 1.02235747\n",
      "  0.98188841 1.0377144  0.87557519 0.66827608 1.17180725 0.90473074\n",
      "  1.05973394 0.92808165 1.16315422 0.42107339]]\n",
      "squared_error for training dataset: 1.2681624051107925\n",
      "squared_error for testing dataset: 58.55347771871324\n"
     ]
    }
   ],
   "source": [
    "m=make_model_stochastic_gradient_descent(X_6,y,0.0001,1000,6)\n",
    "squared_train_error_1.append(m[0])\n",
    "squared_error_list_1.append(m[1])"
   ]
  },
  {
   "cell_type": "code",
   "execution_count": 22,
   "id": "d24ae498",
   "metadata": {},
   "outputs": [
    {
     "name": "stdout",
     "output_type": "stream",
     "text": [
      "fitting polynomial of degree: 7\n",
      "Weights: [[0.92933911 1.00088881 1.00083473 1.00089413 1.00082854 1.00051495\n",
      "  1.00036952 1.00108309 1.00106481 0.99957744 1.00353232 0.99938091\n",
      "  1.00102507 1.00193958 0.994568   0.98676779 1.00803898 0.99763659\n",
      "  1.00048777 1.00741516 0.97204992 1.07074298 0.96380053 1.01855052\n",
      "  0.99373921 0.99443104 1.03439525 0.86503841 0.65014501 1.18290418\n",
      "  0.90620175 1.04500845 0.99056985 0.95995584 1.170003   0.36154323]]\n",
      "squared_error for training dataset: 1.1874010474431147\n",
      "squared_error for testing dataset: 65.0130307725952\n"
     ]
    }
   ],
   "source": [
    "m=make_model_stochastic_gradient_descent(X_7,y,0.0001,1000,7)\n",
    "squared_train_error_1.append(m[0])\n",
    "squared_error_list_1.append(m[1])"
   ]
  },
  {
   "cell_type": "code",
   "execution_count": 23,
   "id": "8de3f09d",
   "metadata": {},
   "outputs": [
    {
     "name": "stdout",
     "output_type": "stream",
     "text": [
      "fitting polynomial of degree: 8\n",
      "Weights: [[0.94426662 1.00084344 1.0008153  1.00078395 1.00084745 1.00074025\n",
      "  1.00098053 1.00074386 1.00094592 1.00051474 1.00015855 1.00116837\n",
      "  1.00052204 1.0012614  0.99935792 1.00400161 0.99916208 1.00184178\n",
      "  0.99985767 1.00280888 0.99420654 0.98534238 1.00884646 0.99632017\n",
      "  1.00372222 0.9970648  1.00974397 0.96987216 1.07704654 0.96096955\n",
      "  1.0218839  0.98876924 1.01019697 0.98550827 1.04276455 0.85555518\n",
      "  0.6230217  1.19763059 0.89704363 1.05599733 0.96674907 1.03345246\n",
      "  0.93327812 1.19987309 0.31244297]]\n",
      "squared_error for training dataset: 0.8980198898997502\n",
      "squared_error for testing dataset: 65.55301796347646\n"
     ]
    }
   ],
   "source": [
    "m=make_model_stochastic_gradient_descent(X_8,y,0.0001,1000,8)\n",
    "squared_train_error_1.append(m[0])\n",
    "squared_error_list_1.append(m[1])"
   ]
  },
  {
   "cell_type": "code",
   "execution_count": 24,
   "id": "c3d64b85",
   "metadata": {},
   "outputs": [
    {
     "name": "stdout",
     "output_type": "stream",
     "text": [
      "fitting polynomial of degree: 9\n",
      "Weights: [[0.92657791 1.00048129 1.00047845 1.00047969 1.00047844 1.00046229\n",
      "  1.00046176 1.00048883 1.00049289 1.00041732 1.00058893 1.00042019\n",
      "  1.00048143 1.00054223 1.00016631 0.99990238 1.00078174 1.00035828\n",
      "  1.00044447 1.00084096 0.99902971 1.00341137 0.99893517 1.00121599\n",
      "  1.00022469 1.00009832 1.00228611 0.9935659  0.98573882 1.0081799\n",
      "  0.99652845 1.00231184 1.00024804 0.99821046 1.00950671 0.96767283\n",
      "  1.0742885  0.9618324  1.02046569 0.99029336 1.00461283 1.00178249\n",
      "  0.9881733  1.04471916 0.84391061 0.63073846 1.1936199  0.8996491\n",
      "  1.0525511  0.97484615 1.00841539 1.01345549 0.93765358 1.21649744\n",
      "  0.25168055]]\n",
      "squared_error for training dataset: 0.8730349374074778\n",
      "squared_error for testing dataset: 62.555965408996094\n"
     ]
    }
   ],
   "source": [
    "m=make_model_stochastic_gradient_descent(X_9,y,0.0001,1000,9)\n",
    "squared_train_error_1.append(m[0])\n",
    "squared_error_list_1.append(m[1])"
   ]
  },
  {
   "cell_type": "code",
   "execution_count": 25,
   "id": "42007608",
   "metadata": {},
   "outputs": [
    {
     "data": {
      "image/png": "[encoded data removed]",
      "text/plain": [
       "<Figure size 432x288 with 1 Axes>"
      ]
     },
     "metadata": {
      "needs_background": "light"
     },
     "output_type": "display_data"
    }
   ],
   "source": [
    "y_axis=squared_train_error_1\n",
    "x_axis=np.array([0,1,2,3,4,5,6,7,8,9])\n",
    "plt.plot(x_axis,y_axis)\n",
    "plt.xlabel(\"Power of Polynomial regression\")\n",
    "plt.ylabel(\"Training Error\")\n",
    "plt.title(\"Graph between training error vs power of polynomial regression in gradient descent method\")\n",
    "plt.show()"
   ]
  },
  {
   "cell_type": "code",
   "execution_count": 26,
   "id": "46e21eef",
   "metadata": {},
   "outputs": [
    {
     "data": {
      "image/png": "[encoded data removed]",
      "text/plain": [
       "<Figure size 432x288 with 1 Axes>"
      ]
     },
     "metadata": {
      "needs_background": "light"
     },
     "output_type": "display_data"
    }
   ],
   "source": [
    "y_axis=squared_error_list_1\n",
    "x_axis=np.array([0,1,2,3,4,5,6,7,8,9])\n",
    "plt.plot(x_axis,y_axis)\n",
    "plt.xlabel(\"Power of Polynomial regression\")\n",
    "plt.ylabel(\"Testing Error\")\n",
    "plt.title(\"Graph between testing error vs power of polynomial regression in gradient descent method\")\n",
    "plt.show()"
   ]
  },
  {
   "cell_type": "code",
   "execution_count": 27,
   "id": "a0628cc0",
   "metadata": {},
   "outputs": [
    {
     "data": {
      "image/png": "[encoded data removed]",
      "text/plain": [
       "<Figure size 432x288 with 1 Axes>"
      ]
     },
     "metadata": {
      "needs_background": "light"
     },
     "output_type": "display_data"
    }
   ],
   "source": [
    "x1=data['MLOGP']\n",
    "x2=data['RDCHI']\n",
    "y=1.34454828+(0*x1)+(0*x2)\n",
    "ax = plt.axes(projection ='3d')\n",
    "my_cmap = plt.get_cmap('coolwarm')\n",
    "trisurf = ax.plot_trisurf(x1, x2, y,cmap = my_cmap,linewidth = 0.2,antialiased = True,edgecolor = 'grey')\n",
    "plt.show()"
   ]
  },
  {
   "cell_type": "code",
   "execution_count": null,
   "id": "9d125c40",
   "metadata": {},
   "outputs": [],
   "source": []
  }
 ],
 "metadata": {
  "kernelspec": {
   "display_name": "Python 3 (ipykernel)",
   "language": "python",
   "name": "python3"
  },
  "language_info": {
   "codemirror_mode": {
    "name": "ipython",
    "version": 3
   },
   "file_extension": ".py",
   "mimetype": "text/x-python",
   "name": "python",
   "nbconvert_exporter": "python",
   "pygments_lexer": "ipython3",
   "version": "3.9.7"
  }
 },
 "nbformat": 4,
 "nbformat_minor": 5
}
