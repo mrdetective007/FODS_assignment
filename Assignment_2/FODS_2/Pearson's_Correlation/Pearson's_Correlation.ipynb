{
 "cells": [
  {
   "cell_type": "code",
   "execution_count": 1,
   "id": "777f9d97",
   "metadata": {},
   "outputs": [],
   "source": [
    "import numpy as np\n",
    "import pandas as pd\n",
    "import matplotlib.pyplot as plt\n",
    "import seaborn as sb\n",
    "from sklearn.model_selection import train_test_split"
   ]
  },
  {
   "cell_type": "code",
   "execution_count": 2,
   "id": "7233f5be",
   "metadata": {},
   "outputs": [],
   "source": [
    "dp=pd.read_csv('C:\\\\Users\\\\hp\\\\Desktop\\\\FODS_2\\\\FODS-A2.csv')"
   ]
  },
  {
   "cell_type": "code",
   "execution_count": 3,
   "id": "e071ef24",
   "metadata": {},
   "outputs": [],
   "source": [
    "def insert_ones(X):\n",
    "    n=len(X)\n",
    "    X.insert(0,\"X0\",1,allow_duplicates=False)\n",
    "    return X"
   ]
  },
  {
   "cell_type": "code",
   "execution_count": 4,
   "id": "131055c3",
   "metadata": {},
   "outputs": [],
   "source": [
    "def calc_weights(X,y):\n",
    "    \n",
    "    X=(X-X.mean())/X.std()\n",
    "    y=(y-y.mean())/y.std()\n",
    "    X_train,X_test,y_train,y_test = train_test_split(X,y,test_size=0.2,random_state=90,shuffle=True)\n",
    "    X_train=insert_ones(X_train)\n",
    "    X_test=insert_ones(X_test)\n",
    "    \n",
    "    weights=np.ones((X_train.shape[1],1))\n",
    "    prod=np.dot(X_train.transpose(),X_train)\n",
    "    inv_mat=np.linalg.inv(prod)\n",
    "    prod_1=np.dot(inv_mat,X_train.transpose())\n",
    "    weights=np.dot(prod_1,y_train)\n",
    "    \n",
    "    return weights"
   ]
  },
  {
   "cell_type": "code",
   "execution_count": 5,
   "id": "123df981",
   "metadata": {},
   "outputs": [],
   "source": [
    "def model_train_error(X,y,weights):\n",
    "    X=(X-X.mean())/X.std()\n",
    "    y=(y-y.mean())/y.std()\n",
    "    X_train,X_test,y_train,y_test = train_test_split(X,y,test_size=0.2,random_state=90,shuffle=True)\n",
    "    X_train=insert_ones(X_train)\n",
    "    X_test=insert_ones(X_test)\n",
    "    n=len(X_train)\n",
    "    err=(1/(2*n))*np.sum(np.square(y_train-np.dot(X_train,weights)))\n",
    "    return err"
   ]
  },
  {
   "cell_type": "code",
   "execution_count": 6,
   "id": "848ce513",
   "metadata": {},
   "outputs": [],
   "source": [
    "def model_test_error(X,y,weights):\n",
    "    X=(X-X.mean())/X.std()\n",
    "    y=(y-y.mean())/y.std()\n",
    "    X_train,X_test,y_train,y_test = train_test_split(X,y,test_size=0.2,random_state=90,shuffle=True)\n",
    "    X_train=insert_ones(X_train)\n",
    "    X_test=insert_ones(X_test)\n",
    "    n=len(X_test)\n",
    "    err=(1/(2*n))*np.sum(np.square(y_test-np.dot(X_test,weights)))\n",
    "    return err"
   ]
  },
  {
   "cell_type": "code",
   "execution_count": 7,
   "id": "a6024b27",
   "metadata": {},
   "outputs": [],
   "source": [
    "corr_output=[]"
   ]
  },
  {
   "cell_type": "code",
   "execution_count": 8,
   "id": "5557a342",
   "metadata": {},
   "outputs": [
    {
     "data": {
      "text/plain": [
       "['RH_out',\n",
       " 'T6',\n",
       " 'T2',\n",
       " 'T_out',\n",
       " 'RH_8',\n",
       " 'Windspeed',\n",
       " 'RH_6',\n",
       " 'T3',\n",
       " 'RH_1',\n",
       " 'RH_2',\n",
       " 'RH_7',\n",
       " 'RH_9',\n",
       " 'T1',\n",
       " 'T4',\n",
       " 'T8',\n",
       " 'Press_mm_hg',\n",
       " 'RH_3',\n",
       " 'T7',\n",
       " 'RH_4',\n",
       " 'T5',\n",
       " 'RH_5',\n",
       " 'Tdewpoint',\n",
       " 'Visibility',\n",
       " 'T9',\n",
       " 'rv1',\n",
       " 'rv2']"
      ]
     },
     "execution_count": 8,
     "metadata": {},
     "output_type": "execute_result"
    }
   ],
   "source": [
    "correlation=abs(dp.corr(method='pearson')['Appliances']).sort_values(ascending=False)[1:]\n",
    "desc_list=list(dp[correlation[:].index].columns)\n",
    "desc_list\n",
    "#print(correlation)"
   ]
  },
  {
   "cell_type": "code",
   "execution_count": 9,
   "id": "0733cb29",
   "metadata": {},
   "outputs": [
    {
     "name": "stdout",
     "output_type": "stream",
     "text": [
      "Final weights for  1  set of features are: [0.00763054]\n",
      "The Training error for  1  set of features is: 0.5161983906419102\n",
      "The Testing error for  1  set of features is: 0.435045584200114\n",
      "\n",
      "\n",
      "Final weights for  2  set of features are: [ 0.00823922 -0.15159107]\n",
      "The Training error for  2  set of features is: 0.5047583890249253\n",
      "The Testing error for  2  set of features is: 0.41861580018474887\n",
      "\n",
      "\n",
      "Final weights for  3  set of features are: [ 0.00825982 -0.12572099  0.04558969]\n",
      "The Training error for  3  set of features is: 0.5040575030060729\n",
      "The Testing error for  3  set of features is: 0.41901002673361226\n",
      "\n",
      "\n",
      "Final weights for  4  set of features are: [ 0.0082718  -0.1243699   0.0271281   0.02385251]\n",
      "The Training error for  4  set of features is: 0.5039595021983706\n",
      "The Testing error for  4  set of features is: 0.41864686977769416\n",
      "\n",
      "\n",
      "Final weights for  5  set of features are: [ 0.00775485 -0.13265951  0.34642308  0.0326884  -0.33924217]\n",
      "The Training error for  5  set of features is: 0.5011952429489966\n",
      "The Testing error for  5  set of features is: 0.4155454055821127\n",
      "\n",
      "\n",
      "Final weights for  6  set of features are: [ 0.00771492 -0.11707833  0.33363658  0.03435186 -0.31696449 -0.01866591]\n",
      "The Training error for  6  set of features is: 0.5011103732795803\n",
      "The Testing error for  6  set of features is: 0.41543052349683496\n",
      "\n",
      "\n",
      "Final weights for  7  set of features are: [ 0.00793755 -0.07521955  0.32961338  0.06112261 -0.32203589 -0.05648475\n",
      "  0.0837237 ]\n",
      "The Training error for  7  set of features is: 0.4982705370308556\n",
      "The Testing error for  7  set of features is: 0.4096489010984319\n",
      "\n",
      "\n",
      "Final weights for  8  set of features are: [ 0.00668915 -0.10554947  0.41751429  0.07390329 -0.29884854 -0.13910547\n",
      "  0.05707941  0.1894276 ]\n",
      "The Training error for  8  set of features is: 0.494084852280743\n",
      "The Testing error for  8  set of features is: 0.4064673019912185\n",
      "\n",
      "\n",
      "Final weights for  9  set of features are: [ 0.00736549 -0.22743215  0.57562613 -0.03638124 -0.49781051 -0.15041509\n",
      "  0.06305065  0.34714172  0.2346062 ]\n",
      "The Training error for  9  set of features is: 0.4878638377633323\n",
      "The Testing error for  9  set of features is: 0.39668634961631655\n",
      "\n",
      "\n",
      "Final weights for  10  set of features are: [ 0.00789258 -0.25611299  0.46853119 -0.03106155 -0.5176513  -0.26622322\n",
      "  0.05397037  0.2433612   0.18095662  0.26415789]\n",
      "The Training error for  10  set of features is: 0.4761388049452199\n",
      "The Testing error for  10  set of features is: 0.3773942581342294\n",
      "\n",
      "\n",
      "Final weights for  11  set of features are: [ 0.00860899 -0.08419338  0.30777148 -0.41286493 -0.25517751 -0.25727287\n",
      "  0.04999341  0.20859365  0.38190219  0.71308232 -0.60100362]\n",
      "The Training error for  11  set of features is: 0.46120952228596435\n",
      "The Testing error for  11  set of features is: 0.3629324684218579\n",
      "\n",
      "\n",
      "Final weights for  12  set of features are: [ 0.00874801 -0.07412413  0.30927907 -0.38872186 -0.23349273 -0.20800056\n",
      "  0.05165664  0.22134247  0.36984555  0.71571943 -0.57844145 -0.09297008]\n",
      "The Training error for  12  set of features is: 0.4606259115815621\n",
      "The Testing error for  12  set of features is: 0.3619241130776412\n",
      "\n",
      "\n",
      "Final weights for  13  set of features are: [ 0.00882293 -0.0862036   0.32058117 -0.38576801 -0.24418426 -0.17812648\n",
      "  0.05319419  0.2363033   0.37569759  0.71879216 -0.56651419 -0.06961\n",
      " -0.07361427]\n",
      "The Training error for  13  set of features is: 0.4600949368383267\n",
      "The Testing error for  13  set of features is: 0.3621205925888675\n",
      "\n",
      "\n",
      "Final weights for  14  set of features are: [ 0.00900924 -0.08563674  0.3922225  -0.50954401 -0.29623583 -0.17430506\n",
      "  0.05200381  0.23382318  0.32859033  0.7862252  -0.64345243 -0.06430802\n",
      " -0.06572871  0.12824178]\n",
      "The Training error for  14  set of features is: 0.45955342604782834\n",
      "The Testing error for  14  set of features is: 0.3617041397883171\n",
      "\n",
      "\n",
      "Final weights for  15  set of features are: [ 0.00893282 -0.08306926  0.37127076 -0.48400257 -0.2797281  -0.17310142\n",
      "  0.04393971  0.2099213   0.34235004  0.77960965 -0.62968112 -0.06461828\n",
      " -0.06984045  0.15468436 -0.0804198 ]\n",
      "The Training error for  15  set of features is: 0.4590336546262477\n",
      "The Testing error for  15  set of features is: 0.3611873550594697\n",
      "\n",
      "\n",
      "Final weights for  16  set of features are: [ 0.00873403 -0.08817364  0.38016011 -0.47827384 -0.28876952 -0.17672975\n",
      "  0.04582121  0.2210492   0.33639379  0.78217302 -0.63723222 -0.05206618\n",
      " -0.06697375  0.1219463  -0.08567572  0.04945693]\n",
      "The Training error for  16  set of features is: 0.45880262672210276\n",
      "The Testing error for  16  set of features is: 0.3615063136310717\n",
      "\n",
      "\n",
      "Final weights for  17  set of features are: [ 0.00873834 -0.08952612  0.38939998 -0.4782685  -0.29741871 -0.17672014\n",
      "  0.04981154  0.22777326  0.3417598   0.78432038 -0.63721077 -0.04697289\n",
      " -0.07215127  0.11784719 -0.08787651  0.05776686  0.01596856]\n",
      "The Training error for  17  set of features is: 0.45870535844993027\n",
      "The Testing error for  17  set of features is: 0.3610190260133803\n",
      "\n",
      "\n",
      "Final weights for  18  set of features are: [ 0.00846488 -0.04974834  0.41981165 -0.52540493 -0.29076448 -0.20486671\n",
      "  0.05206352  0.1868267   0.34953272  0.71169482 -0.65913288 -0.07072654\n",
      " -0.10144587  0.10786829 -0.07196046  0.07454628  0.01705552  0.17820589]\n",
      "The Training error for  18  set of features is: 0.4571150655018023\n",
      "The Testing error for  18  set of features is: 0.3557758704396118\n",
      "\n",
      "\n",
      "Final weights for  19  set of features are: [ 0.0091549  -0.07107694  0.40692003 -0.52895518 -0.29301337 -0.27759455\n",
      "  0.04682634  0.15562399  0.38638372  0.70453747 -0.64632285 -0.00092807\n",
      " -0.05797057  0.09921925 -0.00333304  0.17701376  0.01921933  0.14893512\n",
      " -0.23335852]\n",
      "The Training error for  19  set of features is: 0.4547414154724835\n",
      "The Testing error for  19  set of features is: 0.35331723903952583\n",
      "\n",
      "\n",
      "Final weights for  20  set of features are: [ 0.00949621 -0.0768138   0.39634068 -0.57214833 -0.30303893 -0.28402382\n",
      "  0.04107332  0.14670684  0.3957132   0.68952578 -0.68448433 -0.0271774\n",
      " -0.06903959  0.08896463  0.02882546  0.17224656  0.01436402  0.1255427\n",
      " -0.21936025  0.13246481]\n",
      "The Training error for  20  set of features is: 0.4542101518168325\n",
      "The Testing error for  20  set of features is: 0.35237346344077247\n",
      "\n",
      "\n",
      "Final weights for  21  set of features are: [ 0.00932834 -0.07564439  0.37093667 -0.54715383 -0.29101068 -0.2700944\n",
      "  0.03834322  0.13391759  0.41962241  0.67592549 -0.6594681  -0.03103409\n",
      " -0.08416378  0.10397402  0.05073052  0.17729447  0.01032341  0.11339508\n",
      " -0.18244313  0.15739687 -0.12511066]\n",
      "The Training error for  21  set of features is: 0.4532891660965266\n",
      "The Testing error for  21  set of features is: 0.35326707109546823\n",
      "\n",
      "\n",
      "Final weights for  22  set of features are: [ 0.00932977 -0.06533089  0.37767787 -0.55704727 -0.28062887 -0.2764873\n",
      "  0.03871205  0.13264628  0.43211699  0.67598434 -0.66258678 -0.03993045\n",
      " -0.07760933  0.10925394  0.05424999  0.16741869  0.01098755  0.10842379\n",
      " -0.16653173  0.15078514 -0.15110013  0.04558863]\n",
      "The Training error for  22  set of features is: 0.4525093068896357\n",
      "The Testing error for  22  set of features is: 0.3523702657913481\n",
      "\n",
      "\n",
      "Final weights for  23  set of features are: [ 0.00931736 -0.0943156   0.37912839 -0.55832539 -0.32780995 -0.27571688\n",
      "  0.0375457   0.13622839  0.43182426  0.67478251 -0.66527613 -0.04119772\n",
      " -0.07702894  0.1102197   0.05348898  0.16660299  0.01073172  0.10983438\n",
      " -0.16629319  0.14916642 -0.14891277  0.04542212  0.04125401]\n",
      "The Training error for  23  set of features is: 0.4524991723175492\n",
      "The Testing error for  23  set of features is: 0.35232713828090545\n",
      "\n",
      "\n",
      "Final weights for  24  set of features are: [ 0.00944249 -0.10018975  0.38005117 -0.56028453 -0.33739594 -0.27940113\n",
      "  0.03740846  0.13511663  0.43527789  0.67431651 -0.6655387  -0.03839143\n",
      " -0.07690768  0.10874736  0.05613164  0.16389997  0.00945787  0.10881868\n",
      " -0.16331453  0.15247253 -0.15124506  0.04684898  0.04669503  0.01995029]\n",
      "The Training error for  24  set of features is: 0.45230727934904774\n",
      "The Testing error for  24  set of features is: 0.35212214428017397\n",
      "\n",
      "\n",
      "Final weights for  25  set of features are: [ 0.00949263 -0.0699398   0.42849626 -0.47463638 -0.37991794 -0.26098748\n",
      "  0.03814352  0.10719649  0.49667729  0.64207613 -0.58251125 -0.09696671\n",
      " -0.04993452  0.01795732  0.09913265  0.18561124 -0.00512948  0.06759135\n",
      "  0.01700144  0.13676207 -0.05713448  0.03197767  0.08359932  0.01828874\n",
      " -0.4106035 ]\n",
      "The Training error for  25  set of features is: 0.44937462327667493\n",
      "The Testing error for  25  set of features is: 0.3492729617597317\n",
      "\n",
      "\n",
      "Final weights for  26  set of features are: [ 0.00951604 -0.07059282  0.42920038 -0.47469733 -0.38164318 -0.2608333\n",
      "  0.03810522  0.10618641  0.49614045  0.64203482 -0.58259207 -0.09788111\n",
      " -0.04933576  0.01821495  0.09947619  0.18570811 -0.00520242  0.06847136\n",
      "  0.01719509  0.13642711 -0.05739662  0.03253719  0.08469495  0.01843164\n",
      " -0.41110868  0.01396129]\n",
      "The Training error for  26  set of features is: 0.4492775918000707\n",
      "The Testing error for  26  set of features is: 0.34958710680555577\n",
      "\n",
      "\n"
     ]
    }
   ],
   "source": [
    "for i in range(0,26):\n",
    "    X=dp[desc_list[0:i]]\n",
    "    y=dp['Appliances']\n",
    "    weights=calc_weights(X,y)\n",
    "    print(\"Final weights for \",i+1,\" set of features are:\" ,weights)\n",
    "    train_error=model_train_error(X,y,weights)\n",
    "    test_error=model_test_error(X,y,weights)\n",
    "    print(\"The Training error for \",i+1, \" set of features is:\", train_error)\n",
    "    print(\"The Testing error for \",i+1,\" set of features is:\", test_error)\n",
    "    print(\"\\n\")\n",
    "    corr_output.append((i+1,train_error,test_error))"
   ]
  },
  {
   "cell_type": "code",
   "execution_count": 10,
   "id": "dcb08ee0",
   "metadata": {},
   "outputs": [
    {
     "data": {
      "text/plain": [
       "[(1, 0.5161983906419102, 0.435045584200114),\n",
       " (2, 0.5047583890249253, 0.41861580018474887),\n",
       " (3, 0.5040575030060729, 0.41901002673361226),\n",
       " (4, 0.5039595021983706, 0.41864686977769416),\n",
       " (5, 0.5011952429489966, 0.4155454055821127),\n",
       " (6, 0.5011103732795803, 0.41543052349683496),\n",
       " (7, 0.4982705370308556, 0.4096489010984319),\n",
       " (8, 0.494084852280743, 0.4064673019912185),\n",
       " (9, 0.4878638377633323, 0.39668634961631655),\n",
       " (10, 0.4761388049452199, 0.3773942581342294),\n",
       " (11, 0.46120952228596435, 0.3629324684218579),\n",
       " (12, 0.4606259115815621, 0.3619241130776412),\n",
       " (13, 0.4600949368383267, 0.3621205925888675),\n",
       " (14, 0.45955342604782834, 0.3617041397883171),\n",
       " (15, 0.4590336546262477, 0.3611873550594697),\n",
       " (16, 0.45880262672210276, 0.3615063136310717),\n",
       " (17, 0.45870535844993027, 0.3610190260133803),\n",
       " (18, 0.4571150655018023, 0.3557758704396118),\n",
       " (19, 0.4547414154724835, 0.35331723903952583),\n",
       " (20, 0.4542101518168325, 0.35237346344077247),\n",
       " (21, 0.4532891660965266, 0.35326707109546823),\n",
       " (22, 0.4525093068896357, 0.3523702657913481),\n",
       " (23, 0.4524991723175492, 0.35232713828090545),\n",
       " (24, 0.45230727934904774, 0.35212214428017397),\n",
       " (25, 0.44937462327667493, 0.3492729617597317),\n",
       " (26, 0.4492775918000707, 0.34958710680555577)]"
      ]
     },
     "execution_count": 10,
     "metadata": {},
     "output_type": "execute_result"
    }
   ],
   "source": [
    "corr_output"
   ]
  },
  {
   "cell_type": "code",
   "execution_count": 11,
   "id": "5c32c193",
   "metadata": {},
   "outputs": [],
   "source": [
    "corr_output=pd.DataFrame(corr_output)"
   ]
  },
  {
   "cell_type": "code",
   "execution_count": 12,
   "id": "2fea84ba",
   "metadata": {},
   "outputs": [
    {
     "data": {
      "image/png": "[encoded data removed]",
      "text/plain": [
       "<Figure size 432x288 with 1 Axes>"
      ]
     },
     "metadata": {
      "needs_background": "light"
     },
     "output_type": "display_data"
    }
   ],
   "source": [
    "plt.scatter(corr_output[0],corr_output[1])\n",
    "plt.xlabel(\"Feature sets\")\n",
    "plt.ylabel(\"Training Error\")\n",
    "plt.title(\"Plot between number of elements in feature set v/s training error\")\n",
    "plt.show()"
   ]
  },
  {
   "cell_type": "code",
   "execution_count": 13,
   "id": "475b7609",
   "metadata": {},
   "outputs": [
    {
     "data": {
      "image/png": "[encoded data removed]",
      "text/plain": [
       "<Figure size 432x288 with 1 Axes>"
      ]
     },
     "metadata": {
      "needs_background": "light"
     },
     "output_type": "display_data"
    }
   ],
   "source": [
    "plt.scatter(corr_output[0],corr_output[2])\n",
    "plt.xlabel(\"Feature sets\")\n",
    "plt.ylabel(\"Testing Error\")\n",
    "plt.title(\"Plot between number of elements in feature set v/s testing error\")\n",
    "plt.show()"
   ]
  },
  {
   "cell_type": "code",
   "execution_count": null,
   "id": "0b3c35b8",
   "metadata": {},
   "outputs": [],
   "source": []
  }
 ],
 "metadata": {
  "kernelspec": {
   "display_name": "Python 3 (ipykernel)",
   "language": "python",
   "name": "python3"
  },
  "language_info": {
   "codemirror_mode": {
    "name": "ipython",
    "version": 3
   },
   "file_extension": ".py",
   "mimetype": "text/x-python",
   "name": "python",
   "nbconvert_exporter": "python",
   "pygments_lexer": "ipython3",
   "version": "3.9.7"
  }
 },
 "nbformat": 4,
 "nbformat_minor": 5
}
